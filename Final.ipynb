{
 "cells": [
  {
   "cell_type": "code",
   "execution_count": null,
   "id": "70069ca8",
   "metadata": {},
   "outputs": [],
   "source": [
    "import cv2\n",
    "import pytesseract\n",
    "import numpy as np\n",
    "\n",
    "pytesseract.pytesseract.tesseract_cmd = r'C:\\Program Files (x86)\\Tesseract-OCR\\tesseract.exe'\n",
    "cap = cv2.VideoCapture('carv.mp4')\n",
    "car_cascade = cv2.CascadeClassifier('cars.xml')"
   ]
  },
  {
   "cell_type": "code",
   "execution_count": null,
   "id": "35f292e7",
   "metadata": {},
   "outputs": [],
   "source": [
    "while True:\n",
    "    ret, frames = cap.read()\n",
    "    gray = cv2.cvtColor(frames, cv2.COLOR_BGR2GRAY)\n",
    "    cars = car_cascade.detectMultiScale(gray, 1.1, 9)\n",
    "    for (x,y,w,h) in cars:\n",
    "        plate = frames[y:y + h, x:x + w]\n",
    "        cv2.rectangle(frames,(x,y),(x +w, y +h) ,(51 ,51,255),2)\n",
    "        cv2.rectangle(frames, (x, y - 40), (x + w, y), (51,51,255), -2)\n",
    "        cv2.putText(frames, 'Car', (x, y - 10), cv2.FONT_HERSHEY_SIMPLEX, 0.7, (255, 255, 255), 2)\n",
    "        cv2.imshow('car',plate)\n",
    "    frames = cv2.resize(frames,(600,400))\n",
    "    cv2.imshow('Car Detection System', frames)\n",
    "    k = cv2.waitKey(30) & 0xff\n",
    "    if k == 27:\n",
    "        break\n",
    "cv2.destroyAllWindows()"
   ]
  },
  {
   "cell_type": "code",
   "execution_count": null,
   "id": "3ab6483f",
   "metadata": {},
   "outputs": [
    {
     "name": "stdout",
     "output_type": "stream",
     "text": [
      "KA 05 ME 2190\n",
      "\n",
      "\n",
      "KA05ME2190\n",
      "Car Belongs to Karnataka\n",
      "KA05ME2190\n"
     ]
    }
   ],
   "source": [
    "cascade= cv2.CascadeClassifier(\"haarcascade_russian_plate_number.xml\")\n",
    "states={\"AN\":\"Andaman and Nicobar\",\"AP\":\"Andhra Pradesh\",\"AR\":\"Arunachal Pradesh\",\"AS\":\"Assam\",\"BR\":\"Bihar\",\"CH\":\"Chandigarh\",\"DN\":\"Dadra and Nagar Haveli\",\"DD\":\"Daman and Diu\",\"DL\":\"Delhi\",\"GA\":\"Goa\",\"GJ\":\"Gujarat\",\n",
    "\"HR\":\"Haryana\",\"HP\":\"Himachal Pradesh\",\"JK\":\"Jammu and Kashmir\",\"KA\":\"Karnataka\",\"KL\":\"Kerala\",\"LD\":\"Lakshadweep\",\"MP\":\"Madhya Pradesh\",\"MH\":\"Maharashtra\",\"MN\":\"Manipur\",\"ML\":\"Meghalaya\",\"MZ\":\"Mizoram\",\"NL\":\"Nagaland\",\"OD\":\"Odissa\",\"PY\":\"Pondicherry\",\"PN\":\"Punjab\",\"RJ\":\"Rajasthan\",\"SK\":\"Sikkim\",\"TN\":\"TamilNadu\",\"TR\":\"Tripura\",\"UP\":\"Uttar Pradesh\", \"WB\":\"West Bengal\",\"CG\":\"Chhattisgarh\",\"TS\":\"Telangana\",\"JH\":\"Jharkhand\",\"UK\":\"Uttarakhand\"}\n",
    "def extract_num(img_name):\n",
    "    img = cv2.imread(img_name) \n",
    "    gray = cv2.cvtColor(img,cv2.COLOR_BGR2GRAY) \n",
    "    nplate = cascade.detectMultiScale(gray,1.1,4)\n",
    "    for (x,y,w,h) in nplate:\n",
    "        # Crop a portion of plate\n",
    "        a,b = (int(0.02*img.shape[0]), int(0.025*img.shape[1]))\n",
    "        plate = img[y+a:y+h-a, x+b:x+w-b, :]\n",
    "        # make image more darker to identify the LPR\n",
    "        ## iMAGE PROCESSING\n",
    "        kernel = np.ones((1, 1), np.uint8)\n",
    "        plate = cv2.dilate(plate, kernel, iterations=1)\n",
    "        plate = cv2.erode(plate, kernel, iterations=1)\n",
    "        plate_gray = cv2.cvtColor(plate,cv2.COLOR_BGR2GRAY)\n",
    "        (thresh, plate) = cv2.threshold(plate_gray, 127, 255, cv2.THRESH_BINARY)\n",
    "        # Feed Image to OCR engine\n",
    "        read = pytesseract.image_to_string(plate)\n",
    "        print(read)\n",
    "        read = ''.join(e for e in read if e.isalnum())\n",
    "        print(read)\n",
    "        stat = read[0:2]\n",
    "        try:\n",
    "        # Fetch the State information\n",
    "            print('Car Belongs to',states[stat])\n",
    "        except:\n",
    "            print('State not recognised!!')\n",
    "        print(read)\n",
    "        cv2.rectangle(img, (x,y), (x+w, y+h), (51,51,255), 2)\n",
    "        cv2.rectangle(img, (x, y - 40), (x + w, y),(51,51,255) , -1)\n",
    "        cv2.putText(img,read, (x, y - 10), cv2.FONT_HERSHEY_SIMPLEX, 0.7, (255, 255, 255), 2)\n",
    "        cv2.imshow('PLate',plate)\n",
    "        # Save & display result image\n",
    "        cv2.imwrite('plate.jpg', plate)\n",
    "\n",
    "    cv2.imshow(\"Result\", img)\n",
    "    cv2.imwrite('result.jpg',img)\n",
    "    cv2.waitKey(0)\n",
    "    cv2.destroyAllWindows()\n",
    "\n",
    "# Let's make a function call\n",
    "extract_num('test.png')"
   ]
  },
  {
   "cell_type": "code",
   "execution_count": null,
   "id": "44d1676c",
   "metadata": {},
   "outputs": [],
   "source": []
  }
 ],
 "metadata": {
  "kernelspec": {
   "display_name": "Python 3 (ipykernel)",
   "language": "python",
   "name": "python3"
  },
  "language_info": {
   "codemirror_mode": {
    "name": "ipython",
    "version": 3
   },
   "file_extension": ".py",
   "mimetype": "text/x-python",
   "name": "python",
   "nbconvert_exporter": "python",
   "pygments_lexer": "ipython3",
   "version": "3.8.12"
  }
 },
 "nbformat": 4,
 "nbformat_minor": 5
}
